{
 "cells": [
  {
   "cell_type": "markdown",
   "id": "57e6b826-dc36-439b-bc68-f506861a963f",
   "metadata": {},
   "source": [
    "# 딥러닝 심화 과제2 RNN 응용 - 혐오표현 분류"
   ]
  },
  {
   "cell_type": "code",
   "execution_count": 2,
   "id": "b59eef6a-1550-4b63-bc91-ea8c81445844",
   "metadata": {},
   "outputs": [],
   "source": [
    "import pandas as pd\n",
    "import numpy as np\n",
    "import re\n",
    "from tqdm import tqdm\n",
    "import matplotlib.pyplot as plt\n",
    "from matplotlib import font_manager, rc\n",
    "import seaborn as sns\n",
    "\n",
    "from konlpy.tag import Okt\n",
    "from tensorflow.keras.preprocessing.text import Tokenizer\n",
    "from tensorflow.keras.preprocessing.sequence import pad_sequences\n",
    "from tensorflow.keras.models import Model\n",
    "from tensorflow.keras.layers import Input, Embedding, Dense, LSTM, Bidirectional, Attention, Dropout, GlobalMaxPooling1D\n",
    "from tensorflow.keras.callbacks import EarlyStopping, ModelCheckpoint\n",
    "from tensorflow.keras.models import load_model\n",
    "from sklearn.preprocessing import MultiLabelBinarizer\n",
    "from sklearn.metrics import hamming_loss, accuracy_score, classification_report"
   ]
  },
  {
   "cell_type": "code",
   "execution_count": 3,
   "id": "4f3529c8-0462-4f8f-9a2e-fdb7bf276345",
   "metadata": {},
   "outputs": [],
   "source": [
    "font_path = \"C:/Windows/Fonts/malgun.ttf\"\n",
    "font_name = font_manager.FontProperties(fname=font_path).get_name()\n",
    "rc('font', family=font_name)"
   ]
  },
  {
   "cell_type": "markdown",
   "id": "a181b306-f42a-4857-95d0-b7bbab0a1e6e",
   "metadata": {},
   "source": [
    "### 데이터 로드"
   ]
  },
  {
   "cell_type": "code",
   "execution_count": 4,
   "id": "4b311dcf-38d0-4d73-b1ad-9820adbda54d",
   "metadata": {},
   "outputs": [],
   "source": [
    "train_df = pd.read_parquet('./hate_speech_dataset/train.parquet')\n",
    "validation_df = pd.read_parquet('./hate_speech_dataset/validation.parquet')\n",
    "test_df = pd.read_parquet('./hate_speech_dataset/test.parquet')"
   ]
  },
  {
   "cell_type": "code",
   "execution_count": 5,
   "id": "7028881e-f592-4feb-a28c-f9f6acb9a7cc",
   "metadata": {},
   "outputs": [
    {
     "name": "stdout",
     "output_type": "stream",
     "text": [
      "--- 데이터 크기 확인 ---\n",
      "Train: (78977, 2), Validation: (8776, 2), Test: (21939, 2)\n"
     ]
    }
   ],
   "source": [
    "print(\"--- 데이터 크기 확인 ---\")\n",
    "print(f\"Train: {train_df.shape}, Validation: {validation_df.shape}, Test: {test_df.shape}\")"
   ]
  },
  {
   "cell_type": "code",
   "execution_count": 6,
   "id": "badbe062-73cf-48c6-9e09-1860a0ce036c",
   "metadata": {
    "scrolled": true
   },
   "outputs": [
    {
     "name": "stdout",
     "output_type": "stream",
     "text": [
      "\n",
      "--- Train 데이터 샘플 (처음 10줄) ---\n"
     ]
    },
    {
     "data": {
      "text/html": [
       "<div>\n",
       "<style scoped>\n",
       "    .dataframe tbody tr th:only-of-type {\n",
       "        vertical-align: middle;\n",
       "    }\n",
       "\n",
       "    .dataframe tbody tr th {\n",
       "        vertical-align: top;\n",
       "    }\n",
       "\n",
       "    .dataframe thead th {\n",
       "        text-align: right;\n",
       "    }\n",
       "</style>\n",
       "<table border=\"1\" class=\"dataframe\">\n",
       "  <thead>\n",
       "    <tr style=\"text-align: right;\">\n",
       "      <th></th>\n",
       "      <th>text</th>\n",
       "      <th>label</th>\n",
       "    </tr>\n",
       "  </thead>\n",
       "  <tbody>\n",
       "    <tr>\n",
       "      <th>0</th>\n",
       "      <td>\"자한당틀딱들.. 악플질 고만해라.\"</td>\n",
       "      <td>[2, 4]</td>\n",
       "    </tr>\n",
       "    <tr>\n",
       "      <th>1</th>\n",
       "      <td>정치적으로 편향된 평론한은 분은 별로...</td>\n",
       "      <td>[8]</td>\n",
       "    </tr>\n",
       "    <tr>\n",
       "      <th>2</th>\n",
       "      <td>적당히좀 쳐먹지.그랬냐??? 안그래도 문재인 때문에 나라 엉망진창인데...</td>\n",
       "      <td>[2]</td>\n",
       "    </tr>\n",
       "    <tr>\n",
       "      <th>3</th>\n",
       "      <td>\"안서는 아재들 풀발기 ㅋㄲㅋ\"</td>\n",
       "      <td>[4]</td>\n",
       "    </tr>\n",
       "    <tr>\n",
       "      <th>4</th>\n",
       "      <td>우와 ㅋ 능력자</td>\n",
       "      <td>[8]</td>\n",
       "    </tr>\n",
       "    <tr>\n",
       "      <th>5</th>\n",
       "      <td>맛녀석 콩트보다 약했음맛녀석 애청자로써 70%실력발휘</td>\n",
       "      <td>[8]</td>\n",
       "    </tr>\n",
       "    <tr>\n",
       "      <th>6</th>\n",
       "      <td>주영훈 솔직히 호감임 잉꼬부부로 소문났잖아</td>\n",
       "      <td>[8]</td>\n",
       "    </tr>\n",
       "    <tr>\n",
       "      <th>7</th>\n",
       "      <td>이게주간아이돌이랑머가달라...</td>\n",
       "      <td>[8]</td>\n",
       "    </tr>\n",
       "    <tr>\n",
       "      <th>8</th>\n",
       "      <td>아오 슈박 회사생활도 졑깥고 돈벌기 힘들어 죽겠구만 뭔 저딴것들 자꾸 tv나와서 사...</td>\n",
       "      <td>[3]</td>\n",
       "    </tr>\n",
       "    <tr>\n",
       "      <th>9</th>\n",
       "      <td>\"문재인 하는게 뭐 별거있냐?ㅂㅅㅅㅋ가 하는짓인데 어련하겠어.ㅋㅋㅋ\"</td>\n",
       "      <td>[2, 3]</td>\n",
       "    </tr>\n",
       "  </tbody>\n",
       "</table>\n",
       "</div>"
      ],
      "text/plain": [
       "                                                text   label\n",
       "0                               \"자한당틀딱들.. 악플질 고만해라.\"  [2, 4]\n",
       "1                            정치적으로 편향된 평론한은 분은 별로...     [8]\n",
       "2          적당히좀 쳐먹지.그랬냐??? 안그래도 문재인 때문에 나라 엉망진창인데...     [2]\n",
       "3                                  \"안서는 아재들 풀발기 ㅋㄲㅋ\"     [4]\n",
       "4                                           우와 ㅋ 능력자     [8]\n",
       "5                      맛녀석 콩트보다 약했음맛녀석 애청자로써 70%실력발휘     [8]\n",
       "6                            주영훈 솔직히 호감임 잉꼬부부로 소문났잖아     [8]\n",
       "7                                   이게주간아이돌이랑머가달라...     [8]\n",
       "8  아오 슈박 회사생활도 졑깥고 돈벌기 힘들어 죽겠구만 뭔 저딴것들 자꾸 tv나와서 사...     [3]\n",
       "9             \"문재인 하는게 뭐 별거있냐?ㅂㅅㅅㅋ가 하는짓인데 어련하겠어.ㅋㅋㅋ\"  [2, 3]"
      ]
     },
     "metadata": {},
     "output_type": "display_data"
    }
   ],
   "source": [
    "print(\"\\n--- Train 데이터 샘플 (처음 10줄) ---\")\n",
    "display(train_df.head(10))"
   ]
  },
  {
   "cell_type": "markdown",
   "id": "26278021-724e-47ef-8e3d-5fe47f97dc2a",
   "metadata": {},
   "source": [
    "### 결측치 처리 "
   ]
  },
  {
   "cell_type": "code",
   "execution_count": 7,
   "id": "49743d92-0ea8-4887-b7fd-26346458b326",
   "metadata": {},
   "outputs": [
    {
     "name": "stdout",
     "output_type": "stream",
     "text": [
      "\n",
      "--- 결측치 확인 ---\n",
      "Train Nulls:\n",
      " text     0\n",
      "label    0\n",
      "dtype: int64\n",
      "\n",
      "Validation Nulls:\n",
      " text     0\n",
      "label    0\n",
      "dtype: int64\n",
      "\n",
      "Test Nulls:\n",
      " text     0\n",
      "label    0\n",
      "dtype: int64\n"
     ]
    }
   ],
   "source": [
    "print(\"\\n--- 결측치 확인 ---\")\n",
    "print(\"Train Nulls:\\n\", train_df.isnull().sum())\n",
    "print(\"\\nValidation Nulls:\\n\", validation_df.isnull().sum())\n",
    "print(\"\\nTest Nulls:\\n\", test_df.isnull().sum())"
   ]
  },
  {
   "cell_type": "code",
   "execution_count": 8,
   "id": "0cc6252e-6e62-4cbf-a30f-9a7d5a6ce392",
   "metadata": {},
   "outputs": [
    {
     "name": "stdout",
     "output_type": "stream",
     "text": [
      "\n",
      "--- 중복 데이터 확인 및 제거 전 ---\n",
      "Train 중복 개수: 421\n",
      "Validation 중복 개수: 4\n",
      "Test 중복 개수: 38\n"
     ]
    }
   ],
   "source": [
    "print(f\"\\n--- 중복 데이터 확인 및 제거 전 ---\")\n",
    "print(f\"Train 중복 개수: {train_df.duplicated(subset=['text']).sum()}\")\n",
    "print(f\"Validation 중복 개수: {validation_df.duplicated(subset=['text']).sum()}\")\n",
    "print(f\"Test 중복 개수: {test_df.duplicated(subset=['text']).sum()}\")"
   ]
  },
  {
   "cell_type": "code",
   "execution_count": 9,
   "id": "532fc46e-8abd-4d71-8e32-5da2b1c655ac",
   "metadata": {},
   "outputs": [
    {
     "name": "stdout",
     "output_type": "stream",
     "text": [
      "\n",
      "--- 중복 데이터 제거 후 ---\n",
      "Train: (78556, 2), Validation: (8772, 2), Test: (21901, 2)\n"
     ]
    }
   ],
   "source": [
    "train_df = train_df.drop_duplicates(subset=['text']).reset_index(drop=True)\n",
    "validation_df = validation_df.drop_duplicates(subset=['text']).reset_index(drop=True)\n",
    "test_df = test_df.drop_duplicates(subset=['text']).reset_index(drop=True)\n",
    "\n",
    "print(f\"\\n--- 중복 데이터 제거 후 ---\")\n",
    "print(f\"Train: {train_df.shape}, Validation: {validation_df.shape}, Test: {test_df.shape}\")"
   ]
  },
  {
   "cell_type": "markdown",
   "id": "14178b61-a7cc-477c-9b40-f209e7d217b1",
   "metadata": {},
   "source": [
    "### 레이블 데이터 전처리 및 분포 시각화 "
   ]
  },
  {
   "cell_type": "code",
   "execution_count": 10,
   "id": "a100a298-283e-4525-b0fb-ac9df3a8531b",
   "metadata": {},
   "outputs": [
    {
     "name": "stdout",
     "output_type": "stream",
     "text": [
      "--- 변환된 레이블 샘플 (처음 5개) ---\n",
      "[[0 0 1 0 1 0 0 0 0]\n",
      " [0 0 0 0 0 0 0 0 1]\n",
      " [0 0 1 0 0 0 0 0 0]\n",
      " [0 0 0 0 1 0 0 0 0]\n",
      " [0 0 0 0 0 0 0 0 1]]\n",
      "\n",
      "Binarizer가 학습한 클래스: [0 1 2 3 4 5 6 7 8]\n"
     ]
    }
   ],
   "source": [
    "mlb = MultiLabelBinarizer()\n",
    "y_train = mlb.fit_transform(train_df['label'])\n",
    "y_valid = mlb.transform(validation_df['label'])\n",
    "y_test = mlb.transform(test_df['label'])\n",
    "\n",
    "print(\"--- 변환된 레이블 샘플 (처음 5개) ---\")\n",
    "print(y_train[:5])\n",
    "print(\"\\nBinarizer가 학습한 클래스:\", mlb.classes_)"
   ]
  },
  {
   "cell_type": "code",
   "execution_count": 11,
   "id": "18c71948-570c-4df3-9cd7-0f52069f9938",
   "metadata": {},
   "outputs": [
    {
     "name": "stderr",
     "output_type": "stream",
     "text": [
      "C:\\Users\\jocke\\AppData\\Local\\Temp\\ipykernel_19288\\3562823734.py:8: FutureWarning: \n",
      "\n",
      "Passing `palette` without assigning `hue` is deprecated and will be removed in v0.14.0. Assign the `x` variable to `hue` and set `legend=False` for the same effect.\n",
      "\n",
      "  sns.barplot(x=label_counts.index, y=label_counts.values, palette='viridis')\n"
     ]
    },
    {
     "data": {
      "image/png": "[encoded data removed]",
      "text/plain": [
       "<Figure size 1200x600 with 1 Axes>"
      ]
     },
     "metadata": {},
     "output_type": "display_data"
    }
   ],
   "source": [
    "label_names = [\n",
    "    'Origin', 'Physical', 'Politics', 'Profanity', 'Age',\n",
    "    'Gender', 'Race', 'Religion', 'Not_Hate_Speech'\n",
    "]\n",
    "label_counts = pd.DataFrame(y_train, columns=label_names).sum()\n",
    "\n",
    "plt.figure(figsize=(12, 6))\n",
    "sns.barplot(x=label_counts.index, y=label_counts.values, palette='viridis')\n",
    "plt.title('훈련 데이터 레이블 분포', fontsize=16)\n",
    "plt.ylabel('샘플수', fontsize=12)\n",
    "plt.xticks(rotation=45)\n",
    "plt.show()"
   ]
  },
  {
   "cell_type": "markdown",
   "id": "6e3978cf-bfd0-42fe-86a4-c02fa53513d8",
   "metadata": {},
   "source": [
    "### 텍스트 데이터 전처리 (토큰화, 인코딩, 패딩)"
   ]
  },
  {
   "cell_type": "code",
   "execution_count": 12,
   "id": "a1cce5d7-8a18-4f35-9cfe-60e017485a6f",
   "metadata": {},
   "outputs": [
    {
     "name": "stdout",
     "output_type": "stream",
     "text": [
      "Okt 토큰화\n"
     ]
    },
    {
     "name": "stderr",
     "output_type": "stream",
     "text": [
      "100%|███████████████████████████████████████████████████████████████████████████| 78556/78556 [05:55<00:00, 221.13it/s]\n",
      "100%|█████████████████████████████████████████████████████████████████████████████| 8772/8772 [00:39<00:00, 223.32it/s]\n",
      "100%|███████████████████████████████████████████████████████████████████████████| 21901/21901 [01:42<00:00, 213.72it/s]"
     ]
    },
    {
     "name": "stdout",
     "output_type": "stream",
     "text": [
      "\n",
      "--- 토큰화 결과 샘플 ---\n",
      "[['자', '한', '당', '틀', '딱', '들다', '악플', '질', '고만하다'], ['정치', '적', '으로', '편향', '되다', '평론', '한', '은', '분', '은', '별로'], ['적당하다', '좀', '치다', '먹다', '그렇다', '안', '그렇다', '문재인', '때문', '에', '나라', '엉망', '진창', '인데']]\n"
     ]
    },
    {
     "name": "stderr",
     "output_type": "stream",
     "text": [
      "\n"
     ]
    }
   ],
   "source": [
    "def preprocess_text(text):\n",
    "    text = re.sub(r'[^ㄱ-ㅎㅏ-ㅣ가-힣 ]','', text)\n",
    "    return text\n",
    "\n",
    "train_df['text'] = train_df['text'].apply(preprocess_text)\n",
    "validation_df['text'] = validation_df['text'].apply(preprocess_text)\n",
    "test_df['text'] = test_df['text'].apply(preprocess_text)\n",
    "\n",
    "okt = Okt()\n",
    "print(\"Okt 토큰화\")\n",
    "X_train_tokenized = [okt.morphs(sentence, stem=True) for sentence in tqdm(train_df['text'])]\n",
    "X_valid_tokenized = [okt.morphs(sentence, stem=True) for sentence in tqdm(validation_df['text'])]\n",
    "X_test_tokenized = [okt.morphs(sentence, stem=True) for sentence in tqdm(test_df['text'])]\n",
    "\n",
    "print(\"\\n--- 토큰화 결과 샘플 ---\")\n",
    "print(X_train_tokenized[:3])"
   ]
  },
  {
   "cell_type": "code",
   "execution_count": 13,
   "id": "d35d5a73-a74d-4a5b-9c7e-e02ddb3d89cd",
   "metadata": {},
   "outputs": [
    {
     "name": "stdout",
     "output_type": "stream",
     "text": [
      "\n",
      "--- 단어 집합(Vocabulary) 분석 ---\n",
      "단어 집합의 크기 : 37127\n",
      "등장 빈도가 4번 미만인 희귀 단어수: 24297\n",
      "단어 집합에서 희귀 단어의 비율: 65.44293910092385\n",
      "최종 단어 집합의 크기: 12832\n"
     ]
    }
   ],
   "source": [
    "# --- 정수 인코딩 및 희귀 단어 분석 ---\n",
    "tokenizer = Tokenizer()\n",
    "tokenizer.fit_on_texts(X_train_tokenized)\n",
    "\n",
    "threshold = 4\n",
    "total_cnt = len(tokenizer.word_index)\n",
    "rare_cnt = sum(1 for v in tokenizer.word_counts.values() if v < threshold)\n",
    "print(\"\\n--- 단어 집합(Vocabulary) 분석 ---\")\n",
    "print('단어 집합의 크기 :', total_cnt)\n",
    "print('등장 빈도가 %s번 미만인 희귀 단어의 수: %s' % (threshold, rare_cnt))\n",
    "print(\"단어 집합에서 희귀 단어의 비율:\", (rare_cnt / total_cnt) * 100)\n",
    "\n",
    "vocab_size = total_cnt - rare_cnt + 2\n",
    "print('최종 단어 집합의 크기:', vocab_size)"
   ]
  },
  {
   "cell_type": "code",
   "execution_count": 14,
   "id": "b4d9e3ae-bb9d-4c79-902d-c54df8e334fe",
   "metadata": {},
   "outputs": [
    {
     "name": "stdout",
     "output_type": "stream",
     "text": [
      "\n",
      "--- 정수 인코딩 결과 샘플 ---\n",
      "[[107, 22, 157, 56, 44, 18, 369, 371, 3586], [380, 85, 32, 9917, 19, 1, 22, 6, 254, 6, 462], [718, 40, 97, 58, 46, 25, 46, 103, 168, 7, 95, 4764, 11135, 86]]\n"
     ]
    }
   ],
   "source": [
    "tokenizer = Tokenizer(num_words=vocab_size, oov_token='<oov>')\n",
    "tokenizer.fit_on_texts(X_train_tokenized)\n",
    "X_train_encoded = tokenizer.texts_to_sequences(X_train_tokenized)\n",
    "X_valid_encoded = tokenizer.texts_to_sequences(X_valid_tokenized)\n",
    "X_test_encoded = tokenizer.texts_to_sequences(X_test_tokenized)\n",
    "\n",
    "print(\"\\n--- 정수 인코딩 결과 샘플 ---\")\n",
    "print(X_train_encoded[:3])"
   ]
  },
  {
   "cell_type": "code",
   "execution_count": 15,
   "id": "46529312-04b6-40b7-9313-43fbb17598cb",
   "metadata": {},
   "outputs": [
    {
     "name": "stdout",
     "output_type": "stream",
     "text": [
      "\n",
      "--- 문장 길이 분포 분석 ---\n",
      "최대 길이 : 137\n",
      "평균 길이 : 12.67116451957839\n"
     ]
    },
    {
     "data": {
      "image/png": "[encoded data removed]",
      "text/plain": [
       "<Figure size 640x480 with 1 Axes>"
      ]
     },
     "metadata": {},
     "output_type": "display_data"
    }
   ],
   "source": [
    "print('\\n--- 문장 길이 분포 분석 ---')\n",
    "print('최대 길이 :', max(len(l) for l in X_train_encoded))\n",
    "print('평균 길이 :', sum(map(len, X_train_encoded)) / len(X_train_encoded))\n",
    "\n",
    "plt.hist([len(s) for s in X_train_encoded], bins=50)\n",
    "plt.xlabel('샘플 길이')\n",
    "plt.ylabel('샘플수')\n",
    "plt.show()"
   ]
  },
  {
   "cell_type": "code",
   "execution_count": 16,
   "id": "37634688-e53e-4dd1-80db-a69a4b971bc3",
   "metadata": {},
   "outputs": [
    {
     "name": "stdout",
     "output_type": "stream",
     "text": [
      "\n",
      "--- 패딩 후 데이터 크기 ---\n",
      "X_train_padded: (78556, 50)\n",
      "X_valid_padded: (8772, 50)\n",
      "X_test_padded: (21901, 50)\n"
     ]
    }
   ],
   "source": [
    "max_len = 50\n",
    "X_train_padded = pad_sequences(X_train_encoded, maxlen=max_len)\n",
    "X_valid_padded = pad_sequences(X_valid_encoded, maxlen=max_len)\n",
    "X_test_padded = pad_sequences(X_test_encoded, maxlen=max_len)\n",
    "\n",
    "print('\\n--- 패딩 후 데이터 크기 ---')\n",
    "print(f\"X_train_padded: {X_train_padded.shape}\")\n",
    "print(f\"X_valid_padded: {X_valid_padded.shape}\")\n",
    "print(f\"X_test_padded: {X_test_padded.shape}\")"
   ]
  },
  {
   "cell_type": "markdown",
   "id": "5057aa6b-972c-491a-a40b-f8bec0272d44",
   "metadata": {},
   "source": [
    "### 모델 설계"
   ]
  },
  {
   "cell_type": "code",
   "execution_count": 17,
   "id": "158483e1-60df-44cf-b01f-af5fe1321c32",
   "metadata": {},
   "outputs": [],
   "source": [
    "def build_best_model(vocab_size, embedding_dim=128, max_len=50, lstm_units=128):\n",
    "    inputs = Input(shape=(max_len,))\n",
    "    embedding_layer = Embedding(vocab_size, embedding_dim)(inputs)\n",
    "    bilstm = Bidirectional(LSTM(lstm_units, return_sequences=True))(embedding_layer)\n",
    "    attention_layer = Attention()([bilstm, bilstm])\n",
    "    pool = GlobalMaxPooling1D()(attention_layer)\n",
    "    dense1 = Dense(64, activation='relu')(pool)\n",
    "    drop = Dropout(0.5)(dense1)\n",
    "    outputs = Dense(y_train.shape[1], activation='sigmoid')(drop)\n",
    "    model = Model(inputs=inputs, outputs=outputs)\n",
    "    model.compile(optimizer='adam', loss='binary_crossentropy', metrics=['accuracy'])\n",
    "    return model"
   ]
  },
  {
   "cell_type": "code",
   "execution_count": 18,
   "id": "01293517-295b-49fb-9937-b545c6565e0e",
   "metadata": {},
   "outputs": [
    {
     "data": {
      "text/html": [
       "<pre style=\"white-space:pre;overflow-x:auto;line-height:normal;font-family:Menlo,'DejaVu Sans Mono',consolas,'Courier New',monospace\"><span style=\"font-weight: bold\">Model: \"functional\"</span>\n",
       "</pre>\n"
      ],
      "text/plain": [
       "\u001b[1mModel: \"functional\"\u001b[0m\n"
      ]
     },
     "metadata": {},
     "output_type": "display_data"
    },
    {
     "data": {
      "text/html": [
       "<pre style=\"white-space:pre;overflow-x:auto;line-height:normal;font-family:Menlo,'DejaVu Sans Mono',consolas,'Courier New',monospace\">┏━━━━━━━━━━━━━━━━━━━━━━━━━━━━━━━┳━━━━━━━━━━━━━━━━━━━━━━━━━━━┳━━━━━━━━━━━━━━━━━┳━━━━━━━━━━━━━━━━━━━━━━━━━━━━┓\n",
       "┃<span style=\"font-weight: bold\"> Layer (type)                  </span>┃<span style=\"font-weight: bold\"> Output Shape              </span>┃<span style=\"font-weight: bold\">         Param # </span>┃<span style=\"font-weight: bold\"> Connected to               </span>┃\n",
       "┡━━━━━━━━━━━━━━━━━━━━━━━━━━━━━━━╇━━━━━━━━━━━━━━━━━━━━━━━━━━━╇━━━━━━━━━━━━━━━━━╇━━━━━━━━━━━━━━━━━━━━━━━━━━━━┩\n",
       "│ input_layer (<span style=\"color: #0087ff; text-decoration-color: #0087ff\">InputLayer</span>)      │ (<span style=\"color: #00d7ff; text-decoration-color: #00d7ff\">None</span>, <span style=\"color: #00af00; text-decoration-color: #00af00\">50</span>)                │               <span style=\"color: #00af00; text-decoration-color: #00af00\">0</span> │ -                          │\n",
       "├───────────────────────────────┼───────────────────────────┼─────────────────┼────────────────────────────┤\n",
       "│ embedding (<span style=\"color: #0087ff; text-decoration-color: #0087ff\">Embedding</span>)         │ (<span style=\"color: #00d7ff; text-decoration-color: #00d7ff\">None</span>, <span style=\"color: #00af00; text-decoration-color: #00af00\">50</span>, <span style=\"color: #00af00; text-decoration-color: #00af00\">128</span>)           │       <span style=\"color: #00af00; text-decoration-color: #00af00\">1,642,496</span> │ input_layer[<span style=\"color: #00af00; text-decoration-color: #00af00\">0</span>][<span style=\"color: #00af00; text-decoration-color: #00af00\">0</span>]          │\n",
       "├───────────────────────────────┼───────────────────────────┼─────────────────┼────────────────────────────┤\n",
       "│ bidirectional (<span style=\"color: #0087ff; text-decoration-color: #0087ff\">Bidirectional</span>) │ (<span style=\"color: #00d7ff; text-decoration-color: #00d7ff\">None</span>, <span style=\"color: #00af00; text-decoration-color: #00af00\">50</span>, <span style=\"color: #00af00; text-decoration-color: #00af00\">256</span>)           │         <span style=\"color: #00af00; text-decoration-color: #00af00\">263,168</span> │ embedding[<span style=\"color: #00af00; text-decoration-color: #00af00\">0</span>][<span style=\"color: #00af00; text-decoration-color: #00af00\">0</span>]            │\n",
       "├───────────────────────────────┼───────────────────────────┼─────────────────┼────────────────────────────┤\n",
       "│ attention (<span style=\"color: #0087ff; text-decoration-color: #0087ff\">Attention</span>)         │ (<span style=\"color: #00d7ff; text-decoration-color: #00d7ff\">None</span>, <span style=\"color: #00af00; text-decoration-color: #00af00\">50</span>, <span style=\"color: #00af00; text-decoration-color: #00af00\">256</span>)           │               <span style=\"color: #00af00; text-decoration-color: #00af00\">0</span> │ bidirectional[<span style=\"color: #00af00; text-decoration-color: #00af00\">0</span>][<span style=\"color: #00af00; text-decoration-color: #00af00\">0</span>],       │\n",
       "│                               │                           │                 │ bidirectional[<span style=\"color: #00af00; text-decoration-color: #00af00\">0</span>][<span style=\"color: #00af00; text-decoration-color: #00af00\">0</span>]        │\n",
       "├───────────────────────────────┼───────────────────────────┼─────────────────┼────────────────────────────┤\n",
       "│ global_max_pooling1d          │ (<span style=\"color: #00d7ff; text-decoration-color: #00d7ff\">None</span>, <span style=\"color: #00af00; text-decoration-color: #00af00\">256</span>)               │               <span style=\"color: #00af00; text-decoration-color: #00af00\">0</span> │ attention[<span style=\"color: #00af00; text-decoration-color: #00af00\">0</span>][<span style=\"color: #00af00; text-decoration-color: #00af00\">0</span>]            │\n",
       "│ (<span style=\"color: #0087ff; text-decoration-color: #0087ff\">GlobalMaxPooling1D</span>)          │                           │                 │                            │\n",
       "├───────────────────────────────┼───────────────────────────┼─────────────────┼────────────────────────────┤\n",
       "│ dense (<span style=\"color: #0087ff; text-decoration-color: #0087ff\">Dense</span>)                 │ (<span style=\"color: #00d7ff; text-decoration-color: #00d7ff\">None</span>, <span style=\"color: #00af00; text-decoration-color: #00af00\">64</span>)                │          <span style=\"color: #00af00; text-decoration-color: #00af00\">16,448</span> │ global_max_pooling1d[<span style=\"color: #00af00; text-decoration-color: #00af00\">0</span>][<span style=\"color: #00af00; text-decoration-color: #00af00\">0</span>] │\n",
       "├───────────────────────────────┼───────────────────────────┼─────────────────┼────────────────────────────┤\n",
       "│ dropout (<span style=\"color: #0087ff; text-decoration-color: #0087ff\">Dropout</span>)             │ (<span style=\"color: #00d7ff; text-decoration-color: #00d7ff\">None</span>, <span style=\"color: #00af00; text-decoration-color: #00af00\">64</span>)                │               <span style=\"color: #00af00; text-decoration-color: #00af00\">0</span> │ dense[<span style=\"color: #00af00; text-decoration-color: #00af00\">0</span>][<span style=\"color: #00af00; text-decoration-color: #00af00\">0</span>]                │\n",
       "├───────────────────────────────┼───────────────────────────┼─────────────────┼────────────────────────────┤\n",
       "│ dense_1 (<span style=\"color: #0087ff; text-decoration-color: #0087ff\">Dense</span>)               │ (<span style=\"color: #00d7ff; text-decoration-color: #00d7ff\">None</span>, <span style=\"color: #00af00; text-decoration-color: #00af00\">9</span>)                 │             <span style=\"color: #00af00; text-decoration-color: #00af00\">585</span> │ dropout[<span style=\"color: #00af00; text-decoration-color: #00af00\">0</span>][<span style=\"color: #00af00; text-decoration-color: #00af00\">0</span>]              │\n",
       "└───────────────────────────────┴───────────────────────────┴─────────────────┴────────────────────────────┘\n",
       "</pre>\n"
      ],
      "text/plain": [
       "┏━━━━━━━━━━━━━━━━━━━━━━━━━━━━━━━┳━━━━━━━━━━━━━━━━━━━━━━━━━━━┳━━━━━━━━━━━━━━━━━┳━━━━━━━━━━━━━━━━━━━━━━━━━━━━┓\n",
       "┃\u001b[1m \u001b[0m\u001b[1mLayer (type)                 \u001b[0m\u001b[1m \u001b[0m┃\u001b[1m \u001b[0m\u001b[1mOutput Shape             \u001b[0m\u001b[1m \u001b[0m┃\u001b[1m \u001b[0m\u001b[1m        Param #\u001b[0m\u001b[1m \u001b[0m┃\u001b[1m \u001b[0m\u001b[1mConnected to              \u001b[0m\u001b[1m \u001b[0m┃\n",
       "┡━━━━━━━━━━━━━━━━━━━━━━━━━━━━━━━╇━━━━━━━━━━━━━━━━━━━━━━━━━━━╇━━━━━━━━━━━━━━━━━╇━━━━━━━━━━━━━━━━━━━━━━━━━━━━┩\n",
       "│ input_layer (\u001b[38;5;33mInputLayer\u001b[0m)      │ (\u001b[38;5;45mNone\u001b[0m, \u001b[38;5;34m50\u001b[0m)                │               \u001b[38;5;34m0\u001b[0m │ -                          │\n",
       "├───────────────────────────────┼───────────────────────────┼─────────────────┼────────────────────────────┤\n",
       "│ embedding (\u001b[38;5;33mEmbedding\u001b[0m)         │ (\u001b[38;5;45mNone\u001b[0m, \u001b[38;5;34m50\u001b[0m, \u001b[38;5;34m128\u001b[0m)           │       \u001b[38;5;34m1,642,496\u001b[0m │ input_layer[\u001b[38;5;34m0\u001b[0m][\u001b[38;5;34m0\u001b[0m]          │\n",
       "├───────────────────────────────┼───────────────────────────┼─────────────────┼────────────────────────────┤\n",
       "│ bidirectional (\u001b[38;5;33mBidirectional\u001b[0m) │ (\u001b[38;5;45mNone\u001b[0m, \u001b[38;5;34m50\u001b[0m, \u001b[38;5;34m256\u001b[0m)           │         \u001b[38;5;34m263,168\u001b[0m │ embedding[\u001b[38;5;34m0\u001b[0m][\u001b[38;5;34m0\u001b[0m]            │\n",
       "├───────────────────────────────┼───────────────────────────┼─────────────────┼────────────────────────────┤\n",
       "│ attention (\u001b[38;5;33mAttention\u001b[0m)         │ (\u001b[38;5;45mNone\u001b[0m, \u001b[38;5;34m50\u001b[0m, \u001b[38;5;34m256\u001b[0m)           │               \u001b[38;5;34m0\u001b[0m │ bidirectional[\u001b[38;5;34m0\u001b[0m][\u001b[38;5;34m0\u001b[0m],       │\n",
       "│                               │                           │                 │ bidirectional[\u001b[38;5;34m0\u001b[0m][\u001b[38;5;34m0\u001b[0m]        │\n",
       "├───────────────────────────────┼───────────────────────────┼─────────────────┼────────────────────────────┤\n",
       "│ global_max_pooling1d          │ (\u001b[38;5;45mNone\u001b[0m, \u001b[38;5;34m256\u001b[0m)               │               \u001b[38;5;34m0\u001b[0m │ attention[\u001b[38;5;34m0\u001b[0m][\u001b[38;5;34m0\u001b[0m]            │\n",
       "│ (\u001b[38;5;33mGlobalMaxPooling1D\u001b[0m)          │                           │                 │                            │\n",
       "├───────────────────────────────┼───────────────────────────┼─────────────────┼────────────────────────────┤\n",
       "│ dense (\u001b[38;5;33mDense\u001b[0m)                 │ (\u001b[38;5;45mNone\u001b[0m, \u001b[38;5;34m64\u001b[0m)                │          \u001b[38;5;34m16,448\u001b[0m │ global_max_pooling1d[\u001b[38;5;34m0\u001b[0m][\u001b[38;5;34m0\u001b[0m] │\n",
       "├───────────────────────────────┼───────────────────────────┼─────────────────┼────────────────────────────┤\n",
       "│ dropout (\u001b[38;5;33mDropout\u001b[0m)             │ (\u001b[38;5;45mNone\u001b[0m, \u001b[38;5;34m64\u001b[0m)                │               \u001b[38;5;34m0\u001b[0m │ dense[\u001b[38;5;34m0\u001b[0m][\u001b[38;5;34m0\u001b[0m]                │\n",
       "├───────────────────────────────┼───────────────────────────┼─────────────────┼────────────────────────────┤\n",
       "│ dense_1 (\u001b[38;5;33mDense\u001b[0m)               │ (\u001b[38;5;45mNone\u001b[0m, \u001b[38;5;34m9\u001b[0m)                 │             \u001b[38;5;34m585\u001b[0m │ dropout[\u001b[38;5;34m0\u001b[0m][\u001b[38;5;34m0\u001b[0m]              │\n",
       "└───────────────────────────────┴───────────────────────────┴─────────────────┴────────────────────────────┘\n"
      ]
     },
     "metadata": {},
     "output_type": "display_data"
    },
    {
     "data": {
      "text/html": [
       "<pre style=\"white-space:pre;overflow-x:auto;line-height:normal;font-family:Menlo,'DejaVu Sans Mono',consolas,'Courier New',monospace\"><span style=\"font-weight: bold\"> Total params: </span><span style=\"color: #00af00; text-decoration-color: #00af00\">1,922,697</span> (7.33 MB)\n",
       "</pre>\n"
      ],
      "text/plain": [
       "\u001b[1m Total params: \u001b[0m\u001b[38;5;34m1,922,697\u001b[0m (7.33 MB)\n"
      ]
     },
     "metadata": {},
     "output_type": "display_data"
    },
    {
     "data": {
      "text/html": [
       "<pre style=\"white-space:pre;overflow-x:auto;line-height:normal;font-family:Menlo,'DejaVu Sans Mono',consolas,'Courier New',monospace\"><span style=\"font-weight: bold\"> Trainable params: </span><span style=\"color: #00af00; text-decoration-color: #00af00\">1,922,697</span> (7.33 MB)\n",
       "</pre>\n"
      ],
      "text/plain": [
       "\u001b[1m Trainable params: \u001b[0m\u001b[38;5;34m1,922,697\u001b[0m (7.33 MB)\n"
      ]
     },
     "metadata": {},
     "output_type": "display_data"
    },
    {
     "data": {
      "text/html": [
       "<pre style=\"white-space:pre;overflow-x:auto;line-height:normal;font-family:Menlo,'DejaVu Sans Mono',consolas,'Courier New',monospace\"><span style=\"font-weight: bold\"> Non-trainable params: </span><span style=\"color: #00af00; text-decoration-color: #00af00\">0</span> (0.00 B)\n",
       "</pre>\n"
      ],
      "text/plain": [
       "\u001b[1m Non-trainable params: \u001b[0m\u001b[38;5;34m0\u001b[0m (0.00 B)\n"
      ]
     },
     "metadata": {},
     "output_type": "display_data"
    }
   ],
   "source": [
    "model = build_best_model(vocab_size=vocab_size, max_len=max_len)\n",
    "model.summary()"
   ]
  },
  {
   "cell_type": "code",
   "execution_count": 19,
   "id": "c4c18ab2-b14b-40cf-942f-1d2e9a4647d5",
   "metadata": {},
   "outputs": [],
   "source": [
    "es = EarlyStopping(monitor='val_loss', mode='min', verbose=1, patience=4)\n",
    "mc = ModelCheckpoint('best_hate_speech_model.h5', monitor='val_loss', mode='min', save_best_only=True)"
   ]
  },
  {
   "cell_type": "markdown",
   "id": "509ab44f-1a8b-4bbc-b03e-883b492cea6a",
   "metadata": {},
   "source": [
    "### 학습 및 손실 그래프 시각화"
   ]
  },
  {
   "cell_type": "code",
   "execution_count": 20,
   "id": "fe3b0827-d954-417e-84c1-898e863721b6",
   "metadata": {},
   "outputs": [
    {
     "name": "stdout",
     "output_type": "stream",
     "text": [
      "Epoch 1/15\n",
      "\u001b[1m1228/1228\u001b[0m \u001b[32m━━━━━━━━━━━━━━━━━━━━\u001b[0m\u001b[37m\u001b[0m \u001b[1m0s\u001b[0m 121ms/step - accuracy: 0.5792 - loss: 0.2725  "
     ]
    },
    {
     "name": "stderr",
     "output_type": "stream",
     "text": [
      "WARNING:absl:You are saving your model as an HDF5 file via `model.save()` or `keras.saving.save_model(model)`. This file format is considered legacy. We recommend using instead the native Keras format, e.g. `model.save('my_model.keras')` or `keras.saving.save_model(model, 'my_model.keras')`. \n"
     ]
    },
    {
     "name": "stdout",
     "output_type": "stream",
     "text": [
      "\u001b[1m1228/1228\u001b[0m \u001b[32m━━━━━━━━━━━━━━━━━━━━\u001b[0m\u001b[37m\u001b[0m \u001b[1m163s\u001b[0m 127ms/step - accuracy: 0.6636 - loss: 0.2133 - val_accuracy: 0.7645 - val_loss: 0.1358\n",
      "Epoch 2/15\n",
      "\u001b[1m1228/1228\u001b[0m \u001b[32m━━━━━━━━━━━━━━━━━━━━\u001b[0m\u001b[37m\u001b[0m \u001b[1m0s\u001b[0m 119ms/step - accuracy: 0.7646 - loss: 0.1416  "
     ]
    },
    {
     "name": "stderr",
     "output_type": "stream",
     "text": [
      "WARNING:absl:You are saving your model as an HDF5 file via `model.save()` or `keras.saving.save_model(model)`. This file format is considered legacy. We recommend using instead the native Keras format, e.g. `model.save('my_model.keras')` or `keras.saving.save_model(model, 'my_model.keras')`. \n"
     ]
    },
    {
     "name": "stdout",
     "output_type": "stream",
     "text": [
      "\u001b[1m1228/1228\u001b[0m \u001b[32m━━━━━━━━━━━━━━━━━━━━\u001b[0m\u001b[37m\u001b[0m \u001b[1m152s\u001b[0m 124ms/step - accuracy: 0.7682 - loss: 0.1376 - val_accuracy: 0.7684 - val_loss: 0.1228\n",
      "Epoch 3/15\n",
      "\u001b[1m1228/1228\u001b[0m \u001b[32m━━━━━━━━━━━━━━━━━━━━\u001b[0m\u001b[37m\u001b[0m \u001b[1m203s\u001b[0m 125ms/step - accuracy: 0.7945 - loss: 0.1164 - val_accuracy: 0.7751 - val_loss: 0.1229\n",
      "Epoch 4/15\n",
      "\u001b[1m1228/1228\u001b[0m \u001b[32m━━━━━━━━━━━━━━━━━━━━\u001b[0m\u001b[37m\u001b[0m \u001b[1m152s\u001b[0m 124ms/step - accuracy: 0.8149 - loss: 0.1006 - val_accuracy: 0.7762 - val_loss: 0.1340\n",
      "Epoch 5/15\n",
      "\u001b[1m1228/1228\u001b[0m \u001b[32m━━━━━━━━━━━━━━━━━━━━\u001b[0m\u001b[37m\u001b[0m \u001b[1m149s\u001b[0m 122ms/step - accuracy: 0.8321 - loss: 0.0872 - val_accuracy: 0.7685 - val_loss: 0.1416\n",
      "Epoch 6/15\n",
      "\u001b[1m1228/1228\u001b[0m \u001b[32m━━━━━━━━━━━━━━━━━━━━\u001b[0m\u001b[37m\u001b[0m \u001b[1m207s\u001b[0m 125ms/step - accuracy: 0.8482 - loss: 0.0757 - val_accuracy: 0.7647 - val_loss: 0.1704\n",
      "Epoch 6: early stopping\n"
     ]
    },
    {
     "data": {
      "image/png": "[encoded data removed]",
      "text/plain": [
       "<Figure size 1000x400 with 2 Axes>"
      ]
     },
     "metadata": {},
     "output_type": "display_data"
    }
   ],
   "source": [
    "history = model.fit(\n",
    "    X_train_padded, y_train,\n",
    "    epochs=15,\n",
    "    batch_size=64,\n",
    "    validation_data=(X_valid_padded, y_valid),\n",
    "    callbacks=[es, mc]\n",
    ")\n",
    "\n",
    "plt.figure(figsize=(10, 4))\n",
    "plt.subplot(1, 2, 1)\n",
    "plt.plot(history.history['loss'], label='Train Loss')\n",
    "plt.plot(history.history['val_loss'], label='Validation Loss')\n",
    "plt.title('손실')\n",
    "plt.xlabel('Epoch')\n",
    "plt.ylabel('Loss')\n",
    "plt.legend()\n",
    "\n",
    "plt.subplot(1, 2, 2)\n",
    "plt.plot(history.history['accuracy'], label='Train Accuracy')\n",
    "plt.plot(history.history['val_accuracy'], label='Validation Accuracy')\n",
    "plt.title('정확도')\n",
    "plt.xlabel('Epoch')\n",
    "plt.ylabel('Accuracy')\n",
    "plt.legend()\n",
    "\n",
    "plt.tight_layout()\n",
    "plt.show()"
   ]
  },
  {
   "cell_type": "markdown",
   "id": "4cd95a84-4d98-4a5f-9fa1-5607cc480856",
   "metadata": {},
   "source": [
    "### 모델 평가"
   ]
  },
  {
   "cell_type": "code",
   "execution_count": 21,
   "id": "3f894a5c-169e-4b56-87a5-d22494417e93",
   "metadata": {},
   "outputs": [
    {
     "name": "stderr",
     "output_type": "stream",
     "text": [
      "WARNING:absl:Compiled the loaded model, but the compiled metrics have yet to be built. `model.compile_metrics` will be empty until you train or evaluate the model.\n"
     ]
    },
    {
     "name": "stdout",
     "output_type": "stream",
     "text": [
      "\u001b[1m685/685\u001b[0m \u001b[32m━━━━━━━━━━━━━━━━━━━━\u001b[0m\u001b[37m\u001b[0m \u001b[1m20s\u001b[0m 28ms/step\n",
      "--- 최종 평가 결과 ---\n",
      "Exact Match Ratio: 0.7461\n",
      "Hamming Loss: 0.0465\n",
      "\n",
      "--- 최종 평가 결과 (레이블별) ---\n",
      "                 precision    recall  f1-score   support\n",
      "\n",
      "         Origin       0.86      0.59      0.70      2159\n",
      "       Physical       0.81      0.62      0.70      1740\n",
      "       Politics       0.86      0.68      0.76      2453\n",
      "      Profanity       0.87      0.78      0.82      3218\n",
      "            Age       0.87      0.65      0.74      1479\n",
      "         Gender       0.79      0.47      0.59      1573\n",
      "           Race       0.00      0.00      0.00        58\n",
      "       Religion       0.85      0.72      0.78       492\n",
      "Not_Hate_Speech       0.85      0.90      0.87     11817\n",
      "\n",
      "      micro avg       0.85      0.77      0.81     24989\n",
      "      macro avg       0.75      0.60      0.66     24989\n",
      "   weighted avg       0.85      0.77      0.80     24989\n",
      "    samples avg       0.81      0.79      0.80     24989\n",
      "\n"
     ]
    }
   ],
   "source": [
    "loaded_model = load_model('best_hate_speech_model.h5')\n",
    "y_pred_proba = loaded_model.predict(X_test_padded)\n",
    "y_pred = (y_pred_proba > 0.5).astype(int)\n",
    "\n",
    "emr = accuracy_score(y_test, y_pred)\n",
    "h_loss = hamming_loss(y_test, y_pred)\n",
    "\n",
    "print(\"--- 최종 평가 결과 ---\")\n",
    "print(f\"Exact Match Ratio: {emr:.4f}\")\n",
    "print(f\"Hamming Loss: {h_loss:.4f}\")\n",
    "\n",
    "print(\"\\n--- 최종 평가 결과 (레이블별) ---\")\n",
    "report = classification_report(y_test, y_pred, target_names=label_names, zero_division=0)\n",
    "print(report)"
   ]
  }
 ],
 "metadata": {
  "kernelspec": {
   "display_name": "Python 3 (ipykernel)",
   "language": "python",
   "name": "python3"
  },
  "language_info": {
   "codemirror_mode": {
    "name": "ipython",
    "version": 3
   },
   "file_extension": ".py",
   "mimetype": "text/x-python",
   "name": "python",
   "nbconvert_exporter": "python",
   "pygments_lexer": "ipython3",
   "version": "3.11.7"
  }
 },
 "nbformat": 4,
 "nbformat_minor": 5
}
